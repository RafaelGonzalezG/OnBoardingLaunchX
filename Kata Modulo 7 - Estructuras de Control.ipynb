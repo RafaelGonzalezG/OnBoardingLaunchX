{
 "cells": [
  {
   "cell_type": "markdown",
   "metadata": {},
   "source": [
    "# Estructuras de Control\n",
    "\n",
    "Realizado por: _González Gómez Rafael_ - **`UXP`**"
   ]
  },
  {
   "cell_type": "code",
   "execution_count": 3,
   "metadata": {},
   "outputs": [
    {
     "name": "stdout",
     "output_type": "stream",
     "text": [
      "terminar\n"
     ]
    }
   ],
   "source": [
    "Entrada_De_Usuario = \"\"\n",
    "\n",
    "while Entrada_De_Usuario.lower() != 'terminar':\n",
    "    Entrada_De_Usuario = input(\"Ingresa un nuevo valor, o escribe 'terminar' cuando acabes.\")\n",
    "\n",
    "print(Entrada_De_Usuario)"
   ]
  },
  {
   "cell_type": "code",
   "execution_count": 16,
   "metadata": {},
   "outputs": [
    {
     "name": "stdout",
     "output_type": "stream",
     "text": [
      "['Mercurio', 'Venus', 'Tierra', 'Marte', 'Júpiter', 'Saturno', 'Urano', 'Neptuno']\n"
     ]
    }
   ],
   "source": [
    "Entrada_De_Usuario = \"\"\n",
    "Entradas = []\n",
    "while Entrada_De_Usuario.lower() !=\"terminar\":\n",
    "    if Entrada_De_Usuario:\n",
    "        \n",
    "       Entradas.append(Entrada_De_Usuario)\n",
    "    \n",
    "    Entrada_De_Usuario = input(\"Ingresa un nuevo valor, o escribe 'terminar' cuando acabes.\")\n",
    "\n",
    "print(Entradas)"
   ]
  },
  {
   "cell_type": "code",
   "execution_count": 17,
   "metadata": {},
   "outputs": [
    {
     "name": "stdout",
     "output_type": "stream",
     "text": [
      "4\n",
      "3\n",
      "2\n",
      "1\n",
      "0\n",
      "¡Despegue! 🚀\n"
     ]
    }
   ],
   "source": [
    "Cuenta_Regresiva = [4, 3, 2, 1, 0]\n",
    "for numero in Cuenta_Regresiva:\n",
    "    print(numero)\n",
    "print(\"¡Despegue! 🚀\")"
   ]
  },
  {
   "cell_type": "code",
   "execution_count": 18,
   "metadata": {},
   "outputs": [
    {
     "name": "stdout",
     "output_type": "stream",
     "text": [
      "4\n",
      "3\n",
      "2\n",
      "1\n",
      "0\n",
      "¡Despegue! 🚀\n"
     ]
    }
   ],
   "source": [
    "from time import sleep\n",
    "Cuenta_Regresiva = [4, 3, 2, 1, 0]\n",
    "\n",
    "for numero in Cuenta_Regresiva:\n",
    "    print(numero)\n",
    "    sleep(1)\n",
    "print(\"¡Despegue! 🚀\")"
   ]
  }
 ],
 "metadata": {
  "interpreter": {
   "hash": "b89b5cfaba6639976dc87ff2fec6d58faec662063367e2c229c520fe71072417"
  },
  "kernelspec": {
   "display_name": "Python 3.10.2 64-bit",
   "language": "python",
   "name": "python3"
  },
  "language_info": {
   "codemirror_mode": {
    "name": "ipython",
    "version": 3
   },
   "file_extension": ".py",
   "mimetype": "text/x-python",
   "name": "python",
   "nbconvert_exporter": "python",
   "pygments_lexer": "ipython3",
   "version": "3.10.2"
  },
  "orig_nbformat": 4
 },
 "nbformat": 4,
 "nbformat_minor": 2
}
