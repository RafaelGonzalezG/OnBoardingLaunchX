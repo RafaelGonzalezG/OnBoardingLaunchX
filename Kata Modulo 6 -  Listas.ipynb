{
 "cells": [
  {
   "cell_type": "markdown",
   "metadata": {},
   "source": [
    "# Creación de Listas\n",
    "\n",
    "Realizado por: _González Gómez Rafael_ - **`UXP`**\n"
   ]
  },
  {
   "cell_type": "code",
   "execution_count": 22,
   "metadata": {},
   "outputs": [
    {
     "name": "stdout",
     "output_type": "stream",
     "text": [
      "['Mercurio', 'Venus', 'Tierra', 'Marte', 'Júpiter', 'Saturno', 'Urano', 'Neptuno']\n",
      "El primer planeta es Mercurio\n",
      "El segundo planeta es Venus\n",
      "El tercer planeta es Tierra\n",
      "El cuarto planeta es Marte\n",
      "El quinto planeta es Júpiter\n",
      "El sexto planeta es Saturno\n",
      "El séptimo planeta es Urano\n",
      "El octavo planeta es Neptuno\n",
      "\n",
      "Marte es también conocido como: El planeta rojo\n",
      "\n",
      "Existen 8 planetas en el sistema solar\n",
      "\n",
      "Si contáramos el planetoide Plutón entonces hay 9 planetas en el sistema solar\n",
      "\n",
      "Pero no, definitivamente solo hay 8 planetas en el sistema solar\n",
      "\n",
      "El último planeta es Neptuno y el penúltimo es Urano\n",
      "\n",
      "Júpiter es el planeta número 5 desde el sol.\n"
     ]
    }
   ],
   "source": [
    "Planetas= [\"Mercurio\", \"Venus\", \"Tierra\", \"Marte\", \"Júpiter\", \"Saturno\", \"Urano\", \"Neptuno\"]\n",
    "print(Planetas)\n",
    "print(\"El primer planeta es\", Planetas[0])\n",
    "print(\"El segundo planeta es\", Planetas[1])\n",
    "print(\"El tercer planeta es\", Planetas[2])\n",
    "print(\"El cuarto planeta es\", Planetas[3])\n",
    "print(\"El quinto planeta es\", Planetas[4])\n",
    "print(\"El sexto planeta es\", Planetas[5])\n",
    "print(\"El séptimo planeta es\", Planetas[6])\n",
    "print(\"El octavo planeta es\", Planetas[7])\n",
    "\n",
    "Planetas[3]= \"El planeta rojo\"\n",
    "print(\"\\n\"\"Marte es también conocido como:\", Planetas[3])\n",
    "\n",
    "Número_De_Planetas= len(Planetas)\n",
    "print(\"\\n\"\"Existen\", Número_De_Planetas, \"planetas en el sistema solar\")\n",
    "\n",
    "Planetas.append(\"Plutón\")\n",
    "Número_De_Planetas= len(Planetas)\n",
    "print(\"\\n\"\"Si contáramos el planetoide Plutón entonces hay\", Número_De_Planetas, \"planetas en el sistema solar\")\n",
    "\n",
    "Planetas.pop() #Adiós Plutón\n",
    "Número_De_Planetas= len(Planetas)\n",
    "print(\"\\n\"\"Pero no, definitivamente solo hay\", Número_De_Planetas, \"planetas en el sistema solar\")\n",
    "\n",
    "print(\"\\n\"\"El último planeta es\", Planetas[-1], \"y el penúltimo es\", Planetas[-2])\n",
    "\n",
    "Jupiter_Index= Planetas.index(\"Júpiter\")\n",
    "print(\"\\n\"\"Júpiter es el planeta número\", Jupiter_Index +1, \"desde el sol.\")\n"
   ]
  },
  {
   "cell_type": "code",
   "execution_count": 25,
   "metadata": {},
   "outputs": [
    {
     "name": "stdout",
     "output_type": "stream",
     "text": [
      "En la tierra un autobús de dos pisos pesa 12650 kg\n",
      "\n",
      "En mercurio ese mismo autobus pesa 4781.7 kg\n",
      "\n",
      "El autobús más ligero del sistema solar pesaría 4781.7 kg\n",
      "\n",
      "Mientras que el más pesado rondaría los 29854.0 kg\n"
     ]
    }
   ],
   "source": [
    "Gravedad_En_La_Tierra = 1.0 \n",
    "Gravedad_En_La_Luna = 0.166\n",
    "Gravedad_En_Los_Planetas = [0.378, 0.907, 1, 0.379, 2.36, 0.916, 0.889, 1.12]\n",
    "\n",
    "Peso_De_Autobus_Doblepiso = 12650 # en Kg terrestres\n",
    "\n",
    "print(\"En la tierra un autobús de dos pisos pesa\", Peso_De_Autobus_Doblepiso, \"kg\")\n",
    "print(\"\\n\"\"En mercurio ese mismo autobus pesa\", Peso_De_Autobus_Doblepiso * Gravedad_En_Los_Planetas[0], 'kg')\n",
    "print(\"\\n\"\"El autobús más ligero del sistema solar pesaría\", Peso_De_Autobus_Doblepiso * min(Gravedad_En_Los_Planetas), 'kg')\n",
    "print(\"\\n\"\"Mientras que el más pesado rondaría los\", Peso_De_Autobus_Doblepiso * max(Gravedad_En_Los_Planetas), 'kg')"
   ]
  },
  {
   "cell_type": "code",
   "execution_count": 30,
   "metadata": {},
   "outputs": [
    {
     "name": "stdout",
     "output_type": "stream",
     "text": [
      "Planetas antes de la tierra ['Mercurio', 'Venus']\n",
      "\n",
      "Planetas después de la tierra ['Marte', 'Júpiter', 'Saturno', 'Urano', 'Neptuno']\n"
     ]
    }
   ],
   "source": [
    "Planetas= [\"Mercurio\", \"Venus\", \"Tierra\", \"Marte\", \"Júpiter\", \"Saturno\", \"Urano\", \"Neptuno\"]\n",
    "Planetas_Antes_De_La_Tierra = Planetas[0:2]\n",
    "print(\"Planetas antes de la tierra\",Planetas_Antes_De_La_Tierra)\n",
    "\n",
    "Planetas_Despues_De_La_Tierra = Planetas[3:8]\n",
    "print(\"\\n\"\"Planetas después de la tierra\",Planetas_Despues_De_La_Tierra) \n",
    "\n"
   ]
  },
  {
   "cell_type": "code",
   "execution_count": 33,
   "metadata": {},
   "outputs": [
    {
     "name": "stdout",
     "output_type": "stream",
     "text": [
      "Las lunas regulares de Júpiter son ['Metis', 'Adrastea', 'Amalthea', 'Thebe', 'Io', 'Europa', 'Ganymede', 'Callisto']\n",
      "\n",
      "Las lunas regulares de Júpiter en orden alfabético son ['Adrastea', 'Amalthea', 'Callisto', 'Europa', 'Ganymede', 'Io', 'Metis', 'Thebe']\n",
      "\n",
      "Las lunas regulares de Júpiter en orden alfabético en sentido opuesto son ['Thebe', 'Metis', 'Io', 'Ganymede', 'Europa', 'Callisto', 'Amalthea', 'Adrastea']\n"
     ]
    }
   ],
   "source": [
    "Grupo_Almatheano = ['Metis', 'Adrastea', 'Amalthea', 'Thebe']\n",
    "Lunas_Galileanas = ['Io', 'Europa', 'Ganymede', 'Callisto']\n",
    "\n",
    "Lunas_regulares = Grupo_Almatheano + Lunas_Galileanas\n",
    "print(\"Las lunas regulares de Júpiter son\", Lunas_regulares)\n",
    "\n",
    "Lunas_regulares.sort()\n",
    "print(\"\\n\"\"Las lunas regulares de Júpiter en orden alfabético son\", Lunas_regulares)\n",
    "\n",
    "Lunas_regulares.sort(reverse=True)\n",
    "print(\"\\n\"\"Las lunas regulares de Júpiter en orden alfabético en sentido opuesto son\", Lunas_regulares)"
   ]
  }
 ],
 "metadata": {
  "interpreter": {
   "hash": "b89b5cfaba6639976dc87ff2fec6d58faec662063367e2c229c520fe71072417"
  },
  "kernelspec": {
   "display_name": "Python 3.10.2 64-bit",
   "language": "python",
   "name": "python3"
  },
  "language_info": {
   "codemirror_mode": {
    "name": "ipython",
    "version": 3
   },
   "file_extension": ".py",
   "mimetype": "text/x-python",
   "name": "python",
   "nbconvert_exporter": "python",
   "pygments_lexer": "ipython3",
   "version": "3.10.2"
  },
  "orig_nbformat": 4
 },
 "nbformat": 4,
 "nbformat_minor": 2
}
