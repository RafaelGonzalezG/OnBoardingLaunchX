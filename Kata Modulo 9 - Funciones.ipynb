{
 "cells": [
  {
   "cell_type": "markdown",
   "metadata": {},
   "source": [
    "# FUNCIONES\n",
    "\n",
    "Realizado por: _González Gómez Rafael_ - **`UXP`**"
   ]
  },
  {
   "cell_type": "code",
   "execution_count": 18,
   "metadata": {},
   "outputs": [
    {
     "name": "stdout",
     "output_type": "stream",
     "text": [
      "Reporte de combustible: \n",
      "    Promedio total: 78.33333333333333% \n",
      "    Tanque principal: 80% \n",
      "    Tanque externo: 70% \n",
      "    Tanque de hidrógeno: 85% \n"
     ]
    }
   ],
   "source": [
    "def generate_report(tanque_principal, tanque_externo, tanque_de_hidrogeno): \n",
    "    promedio_total = (tanque_principal + tanque_externo + tanque_de_hidrogeno) / 3 \n",
    "    return f\"\"\"Reporte de combustible: \n",
    "    Promedio total: {promedio_total}% \n",
    "    Tanque principal: {tanque_principal}% \n",
    "    Tanque externo: {tanque_externo}% \n",
    "    Tanque de hidrógeno: {tanque_de_hidrogeno}% \"\"\"\n",
    "print(generate_report(80, 70, 85))"
   ]
  },
  {
   "cell_type": "code",
   "execution_count": 2,
   "metadata": {},
   "outputs": [
    {
     "data": {
      "text/plain": [
       "82.0"
      ]
     },
     "execution_count": 2,
     "metadata": {},
     "output_type": "execute_result"
    }
   ],
   "source": [
    "def average(valores):\n",
    "    total = sum(valores)\n",
    "    numero_de_items = len(valores)\n",
    "    return total / numero_de_items\n",
    "average([80, 85, 81]) "
   ]
  },
  {
   "cell_type": "code",
   "execution_count": 3,
   "metadata": {},
   "outputs": [
    {
     "name": "stdout",
     "output_type": "stream",
     "text": [
      "Reporte de combustible:\n",
      "    Promedio total: 78.0%\n",
      "    Tanque principal: 88%\n",
      "    Tanque externo: 76%\n",
      "    Tanque de hidrógeno: 70%\n"
     ]
    }
   ],
   "source": [
    "def generate_report (tanque_principal ,tanque_externo, tanque_de_hidrogeno):\n",
    "    return f\"\"\"Reporte de combustible:\n",
    "    Promedio total: {average([tanque_principal, tanque_externo, tanque_de_hidrogeno])}%\n",
    "    Tanque principal: {tanque_principal}%\n",
    "    Tanque externo: {tanque_externo}%\n",
    "    Tanque de hidrógeno: {tanque_de_hidrogeno}%\"\"\"\n",
    "print(generate_report(88, 76, 70))"
   ]
  },
  {
   "cell_type": "code",
   "execution_count": 5,
   "metadata": {},
   "outputs": [
    {
     "name": "stdout",
     "output_type": "stream",
     "text": [
      "Mision a Moon\n",
      "    Tiempo de viaje total: 65 minutos\n",
      "    Combustible restante: 500000 galones\n"
     ]
    }
   ],
   "source": [
    "def mission_report(tiempo_antes_de_despegue, tiempo_de_vuelo, destino, tanque_externo, tanque_principal):\n",
    "    return f\"\"\"Mision a {destino}\n",
    "    Tiempo de viaje total: {tiempo_antes_de_despegue + tiempo_de_vuelo} minutos\n",
    "    Combustible restante: {tanque_externo + tanque_principal} galones\"\"\"\n",
    "\n",
    "print(mission_report(14, 51, \"Luna\", 200000, 300000))"
   ]
  },
  {
   "cell_type": "code",
   "execution_count": 7,
   "metadata": {},
   "outputs": [
    {
     "name": "stdout",
     "output_type": "stream",
     "text": [
      "Misión a Luna\n",
      "    Tiempo de viaje total: 76 minutos\n",
      "    Combustible restante: 500000\n"
     ]
    }
   ],
   "source": [
    "def mission_report(destino, *minutos, **reserva_de_combustible):\n",
    "    return f\"\"\"Misión a {destino}\n",
    "    Tiempo de viaje total: {sum(minutos)} minutos\n",
    "    Combustible restante: {sum(reserva_de_combustible.values())}\"\"\"\n",
    "\n",
    "print(mission_report(\"Luna\", 10, 15, 51, Principal=300000, Externo=200000))"
   ]
  },
  {
   "cell_type": "code",
   "execution_count": 9,
   "metadata": {},
   "outputs": [
    {
     "name": "stdout",
     "output_type": "stream",
     "text": [
      "\n",
      "    Mision a luna\n",
      "    Tiempo de viaje total: 74 minutos\n",
      "    Combustible restante: 500000\n",
      "    tanque principal  --> 300000 galones restantes\n",
      "tanque externo  --> 200000 galones restantes\n",
      "\n"
     ]
    }
   ],
   "source": [
    "def mission_report(destino, *minutos, **reservas_de_combustible):\n",
    "    Reporte_Principal = f\"\"\"\n",
    "    Mision a {destino}\n",
    "    Tiempo de viaje total: {sum(minutos)} minutos\n",
    "    Combustible restante: {sum(reservas_de_combustible.values())}\n",
    "    \"\"\"\n",
    "    for Nombre_del_tanque, galones in reservas_de_combustible.items():\n",
    "        Reporte_Principal += f\"tanque {Nombre_del_tanque}  --> {galones} galones restantes\\n\"\n",
    "    return Reporte_Principal\n",
    "\n",
    "print(mission_report(\"luna\", 8, 11, 55, principal=300000, externo=200000))"
   ]
  }
 ],
 "metadata": {
  "interpreter": {
   "hash": "b89b5cfaba6639976dc87ff2fec6d58faec662063367e2c229c520fe71072417"
  },
  "kernelspec": {
   "display_name": "Python 3.10.2 64-bit",
   "language": "python",
   "name": "python3"
  },
  "language_info": {
   "codemirror_mode": {
    "name": "ipython",
    "version": 3
   },
   "file_extension": ".py",
   "mimetype": "text/x-python",
   "name": "python",
   "nbconvert_exporter": "python",
   "pygments_lexer": "ipython3",
   "version": "3.10.2"
  },
  "orig_nbformat": 4
 },
 "nbformat": 4,
 "nbformat_minor": 2
}
