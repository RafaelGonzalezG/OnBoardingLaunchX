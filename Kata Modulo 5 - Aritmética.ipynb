{
 "cells": [
  {
   "cell_type": "markdown",
   "metadata": {},
   "source": [
    "# Operaciones aritméticas"
   ]
  },
  {
   "cell_type": "markdown",
   "metadata": {},
   "source": [
    "# Ejercicio 1"
   ]
  },
  {
   "cell_type": "code",
   "execution_count": 1,
   "metadata": {},
   "outputs": [],
   "source": [
    "Distancia_De_la_tierra = 149597870 \n",
    "Distancia_De_Jupiter = 778547200 "
   ]
  },
  {
   "cell_type": "code",
   "execution_count": 9,
   "metadata": {},
   "outputs": [
    {
     "name": "stdout",
     "output_type": "stream",
     "text": [
      "628949330 Km\n",
      " 390810995.0389724 Mi\n"
     ]
    }
   ],
   "source": [
    "Distancia_entre_tierra_y_Jupiter = Distancia_De_Jupiter - Distancia_De_la_tierra\n",
    "Distancia_En_Millas = Distancia_entre_tierra_y_Jupiter / 1.609344\n",
    "print(Distancia_entre_tierra_y_Jupiter, \"Km\\n\",Distancia_En_Millas, \"Mi\")\n",
    "\n"
   ]
  },
  {
   "cell_type": "markdown",
   "metadata": {},
   "source": [
    "# Ejercicio 2"
   ]
  },
  {
   "cell_type": "code",
   "execution_count": 12,
   "metadata": {},
   "outputs": [],
   "source": [
    "Distancia_De_la_tierra_al_Sol = input(\"Pon el número del Hashtag\") #149597870\n",
    "Distancia_De_Jupiter_al_Sol = input(\"Ahora el otro número del otro Hashtag\") #778547200"
   ]
  },
  {
   "cell_type": "code",
   "execution_count": 13,
   "metadata": {},
   "outputs": [],
   "source": [
    "Distancia_De_la_tierra_al_Sol = int(Distancia_De_la_tierra_al_Sol)\n",
    "Distancia_De_Jupiter_al_Sol = int(Distancia_De_Jupiter_al_Sol)"
   ]
  },
  {
   "cell_type": "code",
   "execution_count": 15,
   "metadata": {},
   "outputs": [
    {
     "name": "stdout",
     "output_type": "stream",
     "text": [
      "628949330 Km\n",
      "390810995.0389724 Mi\n"
     ]
    }
   ],
   "source": [
    "Distancia_entre_tierra_y_Jupiter = Distancia_De_Jupiter - Distancia_De_la_tierra\n",
    "Distancia_En_Millas = Distancia_entre_tierra_y_Jupiter / 1.609344\n",
    "print(Distancia_entre_tierra_y_Jupiter, \"Km\")\n",
    "print(abs(Distancia_En_Millas), \"Mi\")"
   ]
  }
 ],
 "metadata": {
  "interpreter": {
   "hash": "b89b5cfaba6639976dc87ff2fec6d58faec662063367e2c229c520fe71072417"
  },
  "kernelspec": {
   "display_name": "Python 3.10.2 64-bit",
   "language": "python",
   "name": "python3"
  },
  "language_info": {
   "codemirror_mode": {
    "name": "ipython",
    "version": 3
   },
   "file_extension": ".py",
   "mimetype": "text/x-python",
   "name": "python",
   "nbconvert_exporter": "python",
   "pygments_lexer": "ipython3",
   "version": "3.10.2"
  },
  "orig_nbformat": 4
 },
 "nbformat": 4,
 "nbformat_minor": 2
}
