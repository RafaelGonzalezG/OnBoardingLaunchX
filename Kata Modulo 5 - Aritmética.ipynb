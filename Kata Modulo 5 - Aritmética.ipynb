{
 "cells": [
  {
   "cell_type": "markdown",
   "metadata": {},
   "source": [
    "# Operaciones aritméticas"
   ]
  },
  {
   "cell_type": "markdown",
   "metadata": {},
   "source": [
    "# Ejercicio 1"
   ]
  },
  {
   "cell_type": "code",
   "execution_count": 6,
   "metadata": {},
   "outputs": [],
   "source": [
    "Distancia_De_la_tierra = 149597870 \n",
    "Distancia_De_Jupiter = 778547200 "
   ]
  },
  {
   "cell_type": "code",
   "execution_count": 7,
   "metadata": {},
   "outputs": [
    {
     "name": "stdout",
     "output_type": "stream",
     "text": [
      "628949330\n",
      "390810995.0389724\n"
     ]
    }
   ],
   "source": [
    "Distancia_entre_tierra_y_Jupiter = Distancia_De_Jupiter - Distancia_De_la_tierra\n",
    "Distancia_En_Millas = Distancia_entre_tierra_y_Jupiter / 1.609344\n",
    "print(Distancia_entre_tierra_y_Jupiter)\n",
    "print(Distancia_En_Millas)\n",
    "\n"
   ]
  },
  {
   "cell_type": "markdown",
   "metadata": {},
   "source": [
    "# Ejercicio 2"
   ]
  },
  {
   "cell_type": "code",
   "execution_count": 2,
   "metadata": {},
   "outputs": [],
   "source": [
    "Distancia_De_la_tierra_al_Sol = input(\"149597870\")\n",
    "Distancia_De_Jupiter_al_Sol = input(\"778547200\")"
   ]
  },
  {
   "cell_type": "code",
   "execution_count": 9,
   "metadata": {},
   "outputs": [
    {
     "ename": "ValueError",
     "evalue": "invalid literal for int() with base 10: ''",
     "output_type": "error",
     "traceback": [
      "\u001b[1;31m---------------------------------------------------------------------------\u001b[0m",
      "\u001b[1;31mValueError\u001b[0m                                Traceback (most recent call last)",
      "\u001b[1;32md:\\Curso Microsoft\\Kata Modulo 5 - Aritmética.ipynb Cell 7'\u001b[0m in \u001b[0;36m<module>\u001b[1;34m\u001b[0m\n\u001b[1;32m----> <a href='vscode-notebook-cell:/d%3A/Curso%20Microsoft/Kata%20Modulo%205%20-%20Aritm%C3%A9tica.ipynb#ch0000006?line=0'>1</a>\u001b[0m Distancia_De_la_tierra_al_Sol \u001b[39m=\u001b[39m \u001b[39mint\u001b[39;49m(Distancia_De_la_tierra_al_Sol)\n\u001b[0;32m      <a href='vscode-notebook-cell:/d%3A/Curso%20Microsoft/Kata%20Modulo%205%20-%20Aritm%C3%A9tica.ipynb#ch0000006?line=1'>2</a>\u001b[0m Distancia_De_Jupiter_al_Sol \u001b[39m=\u001b[39m \u001b[39mint\u001b[39m(Distancia_De_Jupiter_al_Sol)\n",
      "\u001b[1;31mValueError\u001b[0m: invalid literal for int() with base 10: ''"
     ]
    }
   ],
   "source": [
    "Distancia_De_la_tierra_al_Sol = int(Distancia_De_la_tierra_al_Sol)\n",
    "Distancia_De_Jupiter_al_Sol = int(Distancia_De_Jupiter_al_Sol)"
   ]
  },
  {
   "cell_type": "code",
   "execution_count": 8,
   "metadata": {},
   "outputs": [
    {
     "name": "stdout",
     "output_type": "stream",
     "text": [
      "628949330\n",
      "390810995.0389724\n"
     ]
    }
   ],
   "source": [
    "Distancia_entre_tierra_y_Jupiter = Distancia_De_Jupiter - Distancia_De_la_tierra\n",
    "Distancia_En_Millas = Distancia_entre_tierra_y_Jupiter / 1.609344\n",
    "print(Distancia_entre_tierra_y_Jupiter)\n",
    "print(abs(Distancia_En_Millas))"
   ]
  }
 ],
 "metadata": {
  "interpreter": {
   "hash": "b89b5cfaba6639976dc87ff2fec6d58faec662063367e2c229c520fe71072417"
  },
  "kernelspec": {
   "display_name": "Python 3.10.2 64-bit",
   "language": "python",
   "name": "python3"
  },
  "language_info": {
   "codemirror_mode": {
    "name": "ipython",
    "version": 3
   },
   "file_extension": ".py",
   "mimetype": "text/x-python",
   "name": "python",
   "nbconvert_exporter": "python",
   "pygments_lexer": "ipython3",
   "version": "3.10.2"
  },
  "orig_nbformat": 4
 },
 "nbformat": 4,
 "nbformat_minor": 2
}
