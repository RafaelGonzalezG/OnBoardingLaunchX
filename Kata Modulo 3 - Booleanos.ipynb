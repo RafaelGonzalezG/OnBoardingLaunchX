{
 "cells": [
  {
   "cell_type": "markdown",
   "metadata": {},
   "source": [
    "# Kata Modulo 3 - Booleanos"
   ]
  },
  {
   "cell_type": "code",
   "execution_count": 2,
   "metadata": {},
   "outputs": [
    {
     "name": "stdout",
     "output_type": "stream",
     "text": [
      "Advertencia de velocidad del asteroide\n"
     ]
    }
   ],
   "source": [
    "a = 25\n",
    "b = 49\n",
    "if b >= a:\n",
    "    print(\"Advertencia de velocidad del asteroide\")\n",
    "else: print(\"Sigue con tu día\")"
   ]
  },
  {
   "cell_type": "code",
   "execution_count": 3,
   "metadata": {},
   "outputs": [
    {
     "name": "stdout",
     "output_type": "stream",
     "text": [
      "No se verá nada\n"
     ]
    }
   ],
   "source": [
    "a = 20\n",
    "b = 19\n",
    "if b >= a:\n",
    "    print(\"Busquen la luz del asteroide en el cielo\")\n",
    "else:\n",
    "    print(\"No se verá nada\")"
   ]
  },
  {
   "cell_type": "code",
   "execution_count": 36,
   "metadata": {},
   "outputs": [
    {
     "name": "stdout",
     "output_type": "stream",
     "text": [
      "Miren el cielo se verá un destello, el asteroide es grande pero viene lento\n"
     ]
    }
   ],
   "source": [
    "a = 25 #Vel. Límite para advertencia\n",
    "b = 30 #Vel. del asteroride\n",
    "c = 25 #Diámetro límite de peligro\n",
    "d = 10 #Diámetro del asteoride\n",
    "e = 20 #Limite para luz\n",
    "if b >= a and b >= e and d >= c: \n",
    "    print(\"Advertencia de velocidad del asteroide, se verá un destello de luz y causará daño grave\")\n",
    "elif b >= a or b >= e and d >= c:\n",
    "    print(\"Miren el cielo se verá un destello, el asteroide es grande pero viene lento\")\n",
    "elif b >= a or b >= e and d < c:\n",
    "    print(\"Miren el cielo se verá un destello, no hay peligro\")\n",
    "elif d >= c and d <=1000 and b <= a and b <= e:\n",
    "    print(\"Se acerca un asteroide muy grande pero viene lento, no se verá destello pero puede causar mucho daño\")\n",
    "elif d > 1000:\n",
    "    print(\"Todos vamos a morir, arrepiéntanse\")\n",
    "else: \n",
    "    print(\"Todo esta bien, no pasará nada\")"
   ]
  }
 ],
 "metadata": {
  "interpreter": {
   "hash": "b89b5cfaba6639976dc87ff2fec6d58faec662063367e2c229c520fe71072417"
  },
  "kernelspec": {
   "display_name": "Python 3.10.2 64-bit",
   "language": "python",
   "name": "python3"
  },
  "language_info": {
   "codemirror_mode": {
    "name": "ipython",
    "version": 3
   },
   "file_extension": ".py",
   "mimetype": "text/x-python",
   "name": "python",
   "nbconvert_exporter": "python",
   "pygments_lexer": "ipython3",
   "version": "3.10.2"
  },
  "orig_nbformat": 4
 },
 "nbformat": 4,
 "nbformat_minor": 2
}
