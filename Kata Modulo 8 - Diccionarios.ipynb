{
 "cells": [
  {
   "cell_type": "markdown",
   "metadata": {},
   "source": [
    "# Administrar datos con diccionarios\n",
    "\n",
    "Realizado por: _González Gómez Rafael_ - **`UXP`**"
   ]
  },
  {
   "cell_type": "code",
   "execution_count": 2,
   "metadata": {},
   "outputs": [
    {
     "name": "stdout",
     "output_type": "stream",
     "text": [
      "Marte tiene 2 lunas\n",
      "Marte tiene una circunferencia polar de 6752\n"
     ]
    }
   ],
   "source": [
    "planeta = {'nombre': 'Marte','lunas': 2}\n",
    "print(f'{planeta[\"nombre\"]} tiene {planeta[\"lunas\"]} lunas')\n",
    "\n",
    "planeta['circunferencia (km)'] = {'polar': 6752,'equatorial': 6792}\n",
    "print(f'{planeta[\"nombre\"]} tiene una circunferencia polar de {planeta[\"circunferencia (km)\"][\"polar\"]}')\n"
   ]
  },
  {
   "cell_type": "code",
   "execution_count": 5,
   "metadata": {},
   "outputs": [
    {
     "name": "stdout",
     "output_type": "stream",
     "text": [
      "0.0\n",
      "0.0\n",
      "0.08333333333333333\n",
      "0.25\n",
      "6.833333333333333\n",
      "13.666666666666666\n",
      "15.916666666666666\n",
      "17.083333333333332\n",
      "17.5\n",
      "17.666666666666668\n",
      "17.75\n",
      "17.833333333333332\n"
     ]
    }
   ],
   "source": [
    "Lunas_de_los_planetas = {'mercury': 0,'venus': 0,'earth': 1,'mars': 2,'jupiter': 79,'saturn': 82,'uranus': 27,'neptune': 14,'pluto': 5,'haumea': 2,'makemake': 1,'eris': 1}\n",
    "Lunas = Lunas_de_los_planetas.values()\n",
    "planetas = len(Lunas_de_los_planetas.keys())\n",
    "Years = planetas\n",
    "\n",
    "Lunas_totales = 0\n",
    "for Lunas in Lunas:\n",
    "    Lunas_totales = Lunas_totales + Lunas\n",
    "    average = Lunas_totales / Years\n",
    "    print(average)"
   ]
  }
 ],
 "metadata": {
  "interpreter": {
   "hash": "b89b5cfaba6639976dc87ff2fec6d58faec662063367e2c229c520fe71072417"
  },
  "kernelspec": {
   "display_name": "Python 3.10.2 64-bit",
   "language": "python",
   "name": "python3"
  },
  "language_info": {
   "codemirror_mode": {
    "name": "ipython",
    "version": 3
   },
   "file_extension": ".py",
   "mimetype": "text/x-python",
   "name": "python",
   "nbconvert_exporter": "python",
   "pygments_lexer": "ipython3",
   "version": "3.10.2"
  },
  "orig_nbformat": 4
 },
 "nbformat": 4,
 "nbformat_minor": 2
}
